{
  "nbformat": 4,
  "nbformat_minor": 0,
  "metadata": {
    "colab": {
      "provenance": []
    },
    "kernelspec": {
      "name": "python3",
      "display_name": "Python 3"
    },
    "language_info": {
      "name": "python"
    }
  },
  "cells": [
    {
      "cell_type": "code",
      "source": [
        "from google.colab import drive \n",
        "drive.mount('/content/drive')"
      ],
      "metadata": {
        "colab": {
          "base_uri": "https://localhost:8080/"
        },
        "id": "08ab7tss006C",
        "outputId": "51381b29-1be6-4a4c-9dec-fc7db9dc806e"
      },
      "execution_count": null,
      "outputs": [
        {
          "output_type": "stream",
          "name": "stdout",
          "text": [
            "Drive already mounted at /content/drive; to attempt to forcibly remount, call drive.mount(\"/content/drive\", force_remount=True).\n"
          ]
        }
      ]
    },
    {
      "cell_type": "code",
      "source": [],
      "metadata": {
        "id": "_u7Wkp3qnrT5"
      },
      "execution_count": null,
      "outputs": []
    },
    {
      "cell_type": "code",
      "source": [
        "import numpy as np\n",
        "import tensorflow as tf \n",
        "import matplotlib.pyplot as plt\n",
        "import pickle "
      ],
      "metadata": {
        "id": "br07pAyV1G46"
      },
      "execution_count": null,
      "outputs": []
    },
    {
      "cell_type": "code",
      "source": [
        "training_set = tf.keras.utils.image_dataset_from_directory(\n",
        "    '/content/drive/MyDrive/Fruit_Vegetable_Data/train', \n",
        "    labels = 'inferred', \n",
        "    label_mode = 'categorical', \n",
        "    class_names = None, \n",
        "    color_mode = 'rgb', \n",
        "    batch_size = 32, \n",
        "    image_size = (64, 64), \n",
        "    shuffle = True, \n",
        "    seed = None, \n",
        "    validation_split = None, \n",
        "    subset = None, \n",
        "    interpolation = 'bilinear', \n",
        "    follow_links = False, \n",
        "    crop_to_aspect_ratio = False\n",
        ")"
      ],
      "metadata": {
        "colab": {
          "base_uri": "https://localhost:8080/"
        },
        "id": "Ic3L82XD1Vzz",
        "outputId": "c7aee5ec-cf7a-4ce8-920f-c853a13a2b37"
      },
      "execution_count": null,
      "outputs": [
        {
          "output_type": "stream",
          "name": "stdout",
          "text": [
            "Found 3150 files belonging to 36 classes.\n"
          ]
        }
      ]
    },
    {
      "cell_type": "code",
      "source": [
        "training_set.class_names"
      ],
      "metadata": {
        "colab": {
          "base_uri": "https://localhost:8080/"
        },
        "id": "tFXyNvmHAx86",
        "outputId": "3e74113f-451e-44a2-914f-92814c594408"
      },
      "execution_count": null,
      "outputs": [
        {
          "output_type": "execute_result",
          "data": {
            "text/plain": [
              "['apple',\n",
              " 'banana',\n",
              " 'beetroot',\n",
              " 'bell pepper',\n",
              " 'cabbage',\n",
              " 'capsicum',\n",
              " 'carrot',\n",
              " 'cauliflower',\n",
              " 'chilli pepper',\n",
              " 'corn',\n",
              " 'cucumber',\n",
              " 'eggplant',\n",
              " 'garlic',\n",
              " 'ginger',\n",
              " 'grapes',\n",
              " 'jalepeno',\n",
              " 'kiwi',\n",
              " 'lemon',\n",
              " 'lettuce',\n",
              " 'mango',\n",
              " 'onion',\n",
              " 'orange',\n",
              " 'paprika',\n",
              " 'pear',\n",
              " 'peas',\n",
              " 'pineapple',\n",
              " 'pomegranate',\n",
              " 'potato',\n",
              " 'raddish',\n",
              " 'soy beans',\n",
              " 'spinach',\n",
              " 'sweetcorn',\n",
              " 'sweetpotato',\n",
              " 'tomato',\n",
              " 'turnip',\n",
              " 'watermelon']"
            ]
          },
          "metadata": {},
          "execution_count": 5
        }
      ]
    },
    {
      "cell_type": "code",
      "source": [
        "validation_set = tf.keras.utils.image_dataset_from_directory(\n",
        "    '/content/drive/MyDrive/Fruit_Vegetable_Data/validation',\n",
        "    labels=\"inferred\",\n",
        "    label_mode=\"categorical\",\n",
        "    class_names=None,\n",
        "    color_mode=\"rgb\",\n",
        "    batch_size=32,\n",
        "    image_size=(64, 64),\n",
        "    shuffle=True,\n",
        "    seed=None,\n",
        "    validation_split=None,\n",
        "    subset=None,\n",
        "    interpolation=\"bilinear\",\n",
        "    follow_links=False,\n",
        "    crop_to_aspect_ratio=False,\n",
        ")"
      ],
      "metadata": {
        "colab": {
          "base_uri": "https://localhost:8080/",
          "height": 235
        },
        "id": "Gv5E8-RK2idY",
        "outputId": "1601c519-dc19-40f4-df34-4cd8b9d701db"
      },
      "execution_count": null,
      "outputs": [
        {
          "output_type": "error",
          "ename": "NameError",
          "evalue": "ignored",
          "traceback": [
            "\u001b[0;31m---------------------------------------------------------------------------\u001b[0m",
            "\u001b[0;31mNameError\u001b[0m                                 Traceback (most recent call last)",
            "\u001b[0;32m<ipython-input-1-4d12cb1e4361>\u001b[0m in \u001b[0;36m<module>\u001b[0;34m\u001b[0m\n\u001b[0;32m----> 1\u001b[0;31m validation_set = tf.keras.utils.image_dataset_from_directory(\n\u001b[0m\u001b[1;32m      2\u001b[0m     \u001b[0;34m'/content/drive/MyDrive/Fruit_Vegetable_Data/validation'\u001b[0m\u001b[0;34m,\u001b[0m\u001b[0;34m\u001b[0m\u001b[0;34m\u001b[0m\u001b[0m\n\u001b[1;32m      3\u001b[0m     \u001b[0mlabels\u001b[0m\u001b[0;34m=\u001b[0m\u001b[0;34m\"inferred\"\u001b[0m\u001b[0;34m,\u001b[0m\u001b[0;34m\u001b[0m\u001b[0;34m\u001b[0m\u001b[0m\n\u001b[1;32m      4\u001b[0m     \u001b[0mlabel_mode\u001b[0m\u001b[0;34m=\u001b[0m\u001b[0;34m\"categorical\"\u001b[0m\u001b[0;34m,\u001b[0m\u001b[0;34m\u001b[0m\u001b[0;34m\u001b[0m\u001b[0m\n\u001b[1;32m      5\u001b[0m     \u001b[0mclass_names\u001b[0m\u001b[0;34m=\u001b[0m\u001b[0;32mNone\u001b[0m\u001b[0;34m,\u001b[0m\u001b[0;34m\u001b[0m\u001b[0;34m\u001b[0m\u001b[0m\n",
            "\u001b[0;31mNameError\u001b[0m: name 'tf' is not defined"
          ]
        }
      ]
    },
    {
      "cell_type": "code",
      "source": [
        "cnn = tf.keras.models.Sequential()"
      ],
      "metadata": {
        "id": "YPhIa2A63Uhd"
      },
      "execution_count": null,
      "outputs": []
    },
    {
      "cell_type": "code",
      "source": [
        "cnn.add(tf.keras.layers.Conv2D(filters=64, kernel_size=3, activation='relu', input_shape=[64, 64, 3]))"
      ],
      "metadata": {
        "id": "kslhmpqe3mJ2"
      },
      "execution_count": null,
      "outputs": []
    },
    {
      "cell_type": "code",
      "source": [
        "cnn.add(tf.keras.layers.MaxPool2D(pool_size=2, strides=2))"
      ],
      "metadata": {
        "id": "Ac5nSieo4WEu"
      },
      "execution_count": null,
      "outputs": []
    },
    {
      "cell_type": "code",
      "source": [
        "cnn.add(tf.keras.layers.Dropout(0.5))"
      ],
      "metadata": {
        "id": "I91U6nlg4sC5"
      },
      "execution_count": null,
      "outputs": []
    },
    {
      "cell_type": "code",
      "source": [
        "cnn.add(tf.keras.layers.Flatten())"
      ],
      "metadata": {
        "id": "v0oowHhV41HX"
      },
      "execution_count": null,
      "outputs": []
    },
    {
      "cell_type": "code",
      "source": [
        "cnn.add(tf.keras.layers.Dense(units=128, activation='relu'))"
      ],
      "metadata": {
        "id": "6oOgdeTZ48AI"
      },
      "execution_count": null,
      "outputs": []
    },
    {
      "cell_type": "code",
      "source": [
        "cnn.add(tf.keras.layers.Dense(units=36, activation='softmax'))"
      ],
      "metadata": {
        "id": "pmBgLgsT5Otw"
      },
      "execution_count": null,
      "outputs": []
    },
    {
      "cell_type": "code",
      "source": [
        "cnn.compile(optimizer='rmsprop', loss='categorical_crossentropy', metrics=['accuracy'])"
      ],
      "metadata": {
        "id": "NTSXZ33n5kk2"
      },
      "execution_count": null,
      "outputs": []
    },
    {
      "cell_type": "code",
      "source": [
        "training_history = cnn.fit(x=training_set, validation_data=validation_set, epochs=30)"
      ],
      "metadata": {
        "colab": {
          "base_uri": "https://localhost:8080/"
        },
        "id": "rzfhpP3n6bq0",
        "outputId": "d72556c6-6455-4988-e727-2a5355cbf98a"
      },
      "execution_count": null,
      "outputs": [
        {
          "output_type": "stream",
          "name": "stdout",
          "text": [
            "Epoch 1/30\n",
            "99/99 [==============================] - 623s 6s/step - loss: 278.9782 - accuracy: 0.0584 - val_loss: 3.6082 - val_accuracy: 0.0712\n",
            "Epoch 2/30\n",
            "99/99 [==============================] - 95s 888ms/step - loss: 3.5963 - accuracy: 0.0663 - val_loss: 3.1177 - val_accuracy: 0.1453\n",
            "Epoch 3/30\n",
            "99/99 [==============================] - 92s 865ms/step - loss: 3.1605 - accuracy: 0.1844 - val_loss: 2.1989 - val_accuracy: 0.4615\n",
            "Epoch 4/30\n",
            "99/99 [==============================] - 94s 886ms/step - loss: 2.4406 - accuracy: 0.3762 - val_loss: 1.3721 - val_accuracy: 0.7037\n",
            "Epoch 5/30\n",
            "99/99 [==============================] - 96s 902ms/step - loss: 1.7189 - accuracy: 0.5749 - val_loss: 0.8861 - val_accuracy: 0.8376\n",
            "Epoch 6/30\n",
            "99/99 [==============================] - 95s 897ms/step - loss: 1.1849 - accuracy: 0.7130 - val_loss: 0.8232 - val_accuracy: 0.8604\n",
            "Epoch 7/30\n",
            "99/99 [==============================] - 92s 868ms/step - loss: 0.8555 - accuracy: 0.8168 - val_loss: 0.6952 - val_accuracy: 0.9174\n",
            "Epoch 8/30\n",
            "99/99 [==============================] - 94s 887ms/step - loss: 0.6750 - accuracy: 0.8721 - val_loss: 0.6648 - val_accuracy: 0.9174\n",
            "Epoch 9/30\n",
            "99/99 [==============================] - 93s 869ms/step - loss: 0.5234 - accuracy: 0.9044 - val_loss: 1.1131 - val_accuracy: 0.9430\n",
            "Epoch 10/30\n",
            "99/99 [==============================] - 99s 934ms/step - loss: 0.4304 - accuracy: 0.9368 - val_loss: 1.2284 - val_accuracy: 0.9373\n",
            "Epoch 11/30\n",
            "99/99 [==============================] - 93s 878ms/step - loss: 0.4348 - accuracy: 0.9340 - val_loss: 1.0177 - val_accuracy: 0.9573\n",
            "Epoch 12/30\n",
            "99/99 [==============================] - 94s 890ms/step - loss: 0.3481 - accuracy: 0.9527 - val_loss: 1.4034 - val_accuracy: 0.9430\n",
            "Epoch 13/30\n",
            "99/99 [==============================] - 92s 869ms/step - loss: 0.3235 - accuracy: 0.9530 - val_loss: 1.2909 - val_accuracy: 0.9601\n",
            "Epoch 14/30\n",
            "99/99 [==============================] - 92s 867ms/step - loss: 0.2585 - accuracy: 0.9625 - val_loss: 1.6932 - val_accuracy: 0.9487\n",
            "Epoch 15/30\n",
            "99/99 [==============================] - 99s 901ms/step - loss: 0.3238 - accuracy: 0.9603 - val_loss: 1.5599 - val_accuracy: 0.9544\n",
            "Epoch 16/30\n",
            "99/99 [==============================] - 93s 871ms/step - loss: 0.3169 - accuracy: 0.9594 - val_loss: 1.8825 - val_accuracy: 0.8974\n",
            "Epoch 17/30\n",
            "99/99 [==============================] - 95s 891ms/step - loss: 0.3556 - accuracy: 0.9657 - val_loss: 1.8515 - val_accuracy: 0.9573\n",
            "Epoch 18/30\n",
            "99/99 [==============================] - 93s 875ms/step - loss: 0.3647 - accuracy: 0.9648 - val_loss: 2.1452 - val_accuracy: 0.9601\n",
            "Epoch 19/30\n",
            "99/99 [==============================] - 98s 925ms/step - loss: 0.3386 - accuracy: 0.9667 - val_loss: 3.0402 - val_accuracy: 0.9145\n",
            "Epoch 20/30\n",
            "99/99 [==============================] - 95s 897ms/step - loss: 0.3866 - accuracy: 0.9660 - val_loss: 2.8795 - val_accuracy: 0.9459\n",
            "Epoch 21/30\n",
            "99/99 [==============================] - 93s 870ms/step - loss: 0.3495 - accuracy: 0.9698 - val_loss: 1.6740 - val_accuracy: 0.9601\n",
            "Epoch 22/30\n",
            "99/99 [==============================] - 95s 891ms/step - loss: 0.2511 - accuracy: 0.9749 - val_loss: 2.5162 - val_accuracy: 0.9516\n",
            "Epoch 23/30\n",
            "99/99 [==============================] - 95s 892ms/step - loss: 0.3840 - accuracy: 0.9689 - val_loss: 1.6822 - val_accuracy: 0.9601\n",
            "Epoch 24/30\n",
            "99/99 [==============================] - 98s 928ms/step - loss: 0.2115 - accuracy: 0.9733 - val_loss: 3.8627 - val_accuracy: 0.9345\n",
            "Epoch 25/30\n",
            "99/99 [==============================] - 93s 876ms/step - loss: 0.3413 - accuracy: 0.9724 - val_loss: 2.3537 - val_accuracy: 0.9630\n",
            "Epoch 26/30\n",
            "99/99 [==============================] - 93s 871ms/step - loss: 0.2771 - accuracy: 0.9737 - val_loss: 2.2673 - val_accuracy: 0.9630\n",
            "Epoch 27/30\n",
            "99/99 [==============================] - 95s 893ms/step - loss: 0.2448 - accuracy: 0.9759 - val_loss: 3.1190 - val_accuracy: 0.8860\n",
            "Epoch 28/30\n",
            "99/99 [==============================] - 93s 871ms/step - loss: 0.4708 - accuracy: 0.9676 - val_loss: 3.7438 - val_accuracy: 0.9573\n",
            "Epoch 29/30\n",
            "99/99 [==============================] - 100s 943ms/step - loss: 0.2718 - accuracy: 0.9797 - val_loss: 2.6483 - val_accuracy: 0.9544\n",
            "Epoch 30/30\n",
            "99/99 [==============================] - 596s 6s/step - loss: 0.3029 - accuracy: 0.9768 - val_loss: 3.2214 - val_accuracy: 0.9573\n"
          ]
        }
      ]
    },
    {
      "cell_type": "code",
      "source": [
        "cnn.save(\"trainedModel.h5\")"
      ],
      "metadata": {
        "id": "qmlaHpOGnuIE"
      },
      "execution_count": null,
      "outputs": []
    },
    {
      "cell_type": "code",
      "source": [
        "import json\n",
        "with open('training_hist.json', 'w') as f: \n",
        "  json.dump(training_history.history, f)\n"
      ],
      "metadata": {
        "id": "XvNiwQL58w1l"
      },
      "execution_count": null,
      "outputs": []
    }
  ]
}